{
  "nbformat": 4,
  "nbformat_minor": 0,
  "metadata": {
    "colab": {
      "provenance": [],
      "authorship_tag": "ABX9TyOoZNwjfAwqmavpFI9/iAFx",
      "include_colab_link": true
    },
    "kernelspec": {
      "name": "python3",
      "display_name": "Python 3"
    },
    "language_info": {
      "name": "python"
    }
  },
  "cells": [
    {
      "cell_type": "markdown",
      "metadata": {
        "id": "view-in-github",
        "colab_type": "text"
      },
      "source": [
        "<a href=\"https://colab.research.google.com/github/RichardJames1-c/Python-programes/blob/main/Leap_Year_Checker.ipynb\" target=\"_parent\"><img src=\"https://colab.research.google.com/assets/colab-badge.svg\" alt=\"Open In Colab\"/></a>"
      ]
    },
    {
      "cell_type": "markdown",
      "source": [],
      "metadata": {
        "id": "vGHwLiWlf-T5"
      }
    },
    {
      "cell_type": "code",
      "source": [
        "def  is_leap(year):\n",
        "  leap=False\n",
        "  if (year%4==0)&(year%100!=0 or year%400==0):\n",
        "    return True\n",
        "  else:\n",
        "    return leap\n",
        "\n",
        "\n",
        "\n",
        "year=int(input())\n",
        "print(is_leap(year))\n",
        "\n",
        "\n",
        "\n",
        "\n"
      ],
      "metadata": {
        "colab": {
          "base_uri": "https://localhost:8080/"
        },
        "id": "JA4kYcf-3QNH",
        "outputId": "587ed7ee-c6e4-46d0-8ce6-fc68b6fdf015"
      },
      "execution_count": 2,
      "outputs": [
        {
          "output_type": "stream",
          "name": "stdout",
          "text": [
            "2024\n",
            "True\n"
          ]
        }
      ]
    },
    {
      "cell_type": "code",
      "source": [],
      "metadata": {
        "id": "wjNvInKUf7BC"
      },
      "execution_count": null,
      "outputs": []
    }
  ]
}