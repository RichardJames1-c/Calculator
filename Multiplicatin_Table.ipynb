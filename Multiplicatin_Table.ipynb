{
  "nbformat": 4,
  "nbformat_minor": 0,
  "metadata": {
    "colab": {
      "provenance": [],
      "authorship_tag": "ABX9TyPVJ2DaL59ldynaLAdb93q3",
      "include_colab_link": true
    },
    "kernelspec": {
      "name": "python3",
      "display_name": "Python 3"
    },
    "language_info": {
      "name": "python"
    }
  },
  "cells": [
    {
      "cell_type": "markdown",
      "metadata": {
        "id": "view-in-github",
        "colab_type": "text"
      },
      "source": [
        "<a href=\"https://colab.research.google.com/github/RichardJames1-c/Python-programes/blob/main/Multiplicatin_Table.ipynb\" target=\"_parent\"><img src=\"https://colab.research.google.com/assets/colab-badge.svg\" alt=\"Open In Colab\"/></a>"
      ]
    },
    {
      "cell_type": "code",
      "execution_count": null,
      "metadata": {
        "colab": {
          "base_uri": "https://localhost:8080/"
        },
        "id": "iw_4fNOuvOp7",
        "outputId": "fb0a5348-7553-4726-fc51-9c01c51bdc4f"
      },
      "outputs": [
        {
          "output_type": "stream",
          "name": "stdout",
          "text": [
            "\n",
            "\n",
            "\t\t\t\t\t\t________Multiplication___Table__________\n",
            "\n",
            "\n",
            "\n",
            "\n",
            "Enter a number : 5\n",
            "\n",
            "\n",
            "\n",
            "\n",
            "\t\t\t\t\t\t\t 5 x 1 = 5\n",
            "\t\t\t\t\t\t\t 5 x 2 = 10\n",
            "\t\t\t\t\t\t\t 5 x 3 = 15\n",
            "\t\t\t\t\t\t\t 5 x 4 = 20\n",
            "\t\t\t\t\t\t\t 5 x 5 = 25\n",
            "\t\t\t\t\t\t\t 5 x 6 = 30\n",
            "\t\t\t\t\t\t\t 5 x 7 = 35\n",
            "\t\t\t\t\t\t\t 5 x 8 = 40\n",
            "\t\t\t\t\t\t\t 5 x 9 = 45\n",
            "\t\t\t\t\t\t\t 5 x 10 = 50\n",
            "\t\t\t\t\t\t\t 5 x 11 = 55\n",
            "\t\t\t\t\t\t\t 5 x 12 = 60\n",
            "\t\t\t\t\t\t\t 5 x 13 = 65\n",
            "\t\t\t\t\t\t\t 5 x 14 = 70\n",
            "\t\t\t\t\t\t\t 5 x 15 = 75\n",
            "\t\t\t\t\t\t\t 5 x 16 = 80\n",
            "\t\t\t\t\t\t\t 5 x 17 = 85\n",
            "\t\t\t\t\t\t\t 5 x 18 = 90\n",
            "\t\t\t\t\t\t\t 5 x 19 = 95\n",
            "\t\t\t\t\t\t\t 5 x 20 = 100\n"
          ]
        }
      ],
      "source": [
        "print(\"\\n\\n\\t\\t\\t\\t\\t\\t________Multiplication___Table__________\\n\\n\\n\\n\")\n",
        "Multiplication_number=int(input(\"Enter a number : \"))\n",
        "print(\"\\n\\n\\n\")\n",
        "for number_2 in range(1,21):\n",
        "    print(\"\\t\\t\\t\\t\\t\\t\\t\", Multiplication_number,'x',number_2,\"=\",Multiplication_number*number_2)\n",
        "\n"
      ]
    },
    {
      "cell_type": "code",
      "source": [],
      "metadata": {
        "id": "itZ_-x2twVzf"
      },
      "execution_count": null,
      "outputs": []
    }
  ]
}