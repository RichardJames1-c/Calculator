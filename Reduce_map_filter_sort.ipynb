{
  "nbformat": 4,
  "nbformat_minor": 0,
  "metadata": {
    "colab": {
      "provenance": [],
      "authorship_tag": "ABX9TyNYKqz7N6EGfwo60cvmGRHA",
      "include_colab_link": true
    },
    "kernelspec": {
      "name": "python3",
      "display_name": "Python 3"
    },
    "language_info": {
      "name": "python"
    }
  },
  "cells": [
    {
      "cell_type": "markdown",
      "metadata": {
        "id": "view-in-github",
        "colab_type": "text"
      },
      "source": [
        "<a href=\"https://colab.research.google.com/github/RichardJames1-c/Python-programes/blob/main/Reduce_map_filter_sort.ipynb\" target=\"_parent\"><img src=\"https://colab.research.google.com/assets/colab-badge.svg\" alt=\"Open In Colab\"/></a>"
      ]
    },
    {
      "cell_type": "code",
      "execution_count": null,
      "metadata": {
        "colab": {
          "base_uri": "https://localhost:8080/"
        },
        "id": "CyyS658GRkUs",
        "outputId": "f7e1301c-6b05-471d-f581-78f0fefc3025"
      },
      "outputs": [
        {
          "output_type": "stream",
          "name": "stdout",
          "text": [
            "('Alice', 25)\n"
          ]
        }
      ],
      "source": [
        "friends=[\n",
        "    (\"Alice\",25),\n",
        "    (\"Bob\",10)\n",
        "\n",
        "\n",
        "]\n",
        "\n",
        "age=lambda x:x[1]>=18\n",
        "filters=list(filter(age,friends))\n",
        "for i in filters:\n",
        "  print(i)"
      ]
    },
    {
      "cell_type": "code",
      "source": [
        "from functools import reduce\n",
        "letters=[\"a\",\"b\",\"c\",\"d\"]\n",
        "total=reduce(lambda x,y:x+y ,letters)\n",
        "print(total)\n"
      ],
      "metadata": {
        "colab": {
          "base_uri": "https://localhost:8080/"
        },
        "id": "6SUTKQ8uTGxS",
        "outputId": "6a4a50a3-fd3c-4ef3-f388-a39cb1ece59c"
      },
      "execution_count": null,
      "outputs": [
        {
          "output_type": "stream",
          "name": "stdout",
          "text": [
            "abcd\n"
          ]
        }
      ]
    },
    {
      "cell_type": "code",
      "source": [
        "Number=[\"1\",\"2\",\"3\",\"4\",\"5\",\"6\"]\n",
        "Large=reduce(lambda x,y:x if x>y else y,Number)\n",
        "print(\"Large :\",Large)"
      ],
      "metadata": {
        "colab": {
          "base_uri": "https://localhost:8080/"
        },
        "id": "ES_1W5LNV6oM",
        "outputId": "c1602df7-e758-4b45-91ed-d0c47549d763"
      },
      "execution_count": null,
      "outputs": [
        {
          "output_type": "stream",
          "name": "stdout",
          "text": [
            "Large : 6\n"
          ]
        }
      ]
    },
    {
      "cell_type": "code",
      "source": [],
      "metadata": {
        "id": "GCppfax2bV0X"
      },
      "execution_count": null,
      "outputs": []
    },
    {
      "cell_type": "code",
      "source": [
        "print(\"Richardjames2002\")"
      ],
      "metadata": {
        "id": "3eVvuEqmYIh7",
        "colab": {
          "base_uri": "https://localhost:8080/"
        },
        "outputId": "152304a7-33b4-4bf7-df1e-ccd0c641450c"
      },
      "execution_count": null,
      "outputs": [
        {
          "output_type": "stream",
          "name": "stdout",
          "text": [
            "Richardjames2002\n"
          ]
        }
      ]
    },
    {
      "cell_type": "code",
      "source": [
        "a=int(input(\"Enter first digits \"))\n",
        "b=int(input(\"Enter second digits \"))\n",
        "x=a+b\n",
        "print(\"Sum of two digits:\",x)"
      ],
      "metadata": {
        "colab": {
          "base_uri": "https://localhost:8080/"
        },
        "id": "SYULpQE5baMu",
        "outputId": "6d6e574a-78c7-4937-eed1-bfa34bbbeba9"
      },
      "execution_count": null,
      "outputs": [
        {
          "output_type": "stream",
          "name": "stdout",
          "text": [
            "Enter first digits 35\n",
            "Enter second digits 78\n",
            "Sum of two digits: 113\n"
          ]
        }
      ]
    },
    {
      "cell_type": "code",
      "source": [],
      "metadata": {
        "id": "Hp9dX43ub2hG"
      },
      "execution_count": null,
      "outputs": []
    }
  ]
}