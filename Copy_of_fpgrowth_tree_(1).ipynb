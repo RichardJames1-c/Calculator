{
  "cells": [
    {
      "cell_type": "markdown",
      "metadata": {
        "id": "view-in-github",
        "colab_type": "text"
      },
      "source": [
        "<a href=\"https://colab.research.google.com/github/RichardJames1-c/Python-programes/blob/main/Copy_of_fpgrowth_tree_(1).ipynb\" target=\"_parent\"><img src=\"https://colab.research.google.com/assets/colab-badge.svg\" alt=\"Open In Colab\"/></a>"
      ]
    },
    {
      "cell_type": "code",
      "execution_count": null,
      "id": "0de27caa",
      "metadata": {
        "id": "0de27caa",
        "outputId": "60ab89c4-44c6-4648-bf09-6108c236c03b"
      },
      "outputs": [
        {
          "name": "stdout",
          "output_type": "stream",
          "text": [
            "Requirement already satisfied: pyfpgrowth in c:\\users\\abhilash\\anaconda3\\lib\\site-packages (1.0)\n",
            "Note: you may need to restart the kernel to use updated packages.\n"
          ]
        }
      ],
      "source": [
        "pip install pyfpgrowth"
      ]
    },
    {
      "cell_type": "code",
      "execution_count": null,
      "id": "3d75e9c0",
      "metadata": {
        "id": "3d75e9c0",
        "outputId": "d99afa36-0082-4efe-9732-643677e91094"
      },
      "outputs": [
        {
          "name": "stdout",
          "output_type": "stream",
          "text": [
            "Frequent Itemsets and Corresponding Patterns:\n",
            "Itemset: ('milk',) - Support: 3\n",
            "Corresponding Patterns:\n",
            "['milk', 'bread', 'eggs']\n",
            "['milk', 'diapers', 'beer']\n",
            "['milk', 'bread', 'eggs', 'beer']\n",
            "\n",
            "Itemset: ('eggs',) - Support: 3\n",
            "Corresponding Patterns:\n",
            "['milk', 'bread', 'eggs']\n",
            "['bread', 'eggs', 'diapers']\n",
            "['milk', 'bread', 'eggs', 'beer']\n",
            "\n",
            "Itemset: ('bread', 'eggs') - Support: 3\n",
            "Corresponding Patterns:\n",
            "['milk', 'bread', 'eggs']\n",
            "['bread', 'eggs', 'diapers']\n",
            "['milk', 'bread', 'eggs', 'beer']\n",
            "\n",
            "Itemset: ('diapers',) - Support: 3\n",
            "Corresponding Patterns:\n",
            "['milk', 'diapers', 'beer']\n",
            "['bread', 'eggs', 'diapers']\n",
            "['bread', 'diapers', 'beer']\n",
            "\n",
            "Itemset: ('beer',) - Support: 3\n",
            "Corresponding Patterns:\n",
            "['milk', 'diapers', 'beer']\n",
            "['milk', 'bread', 'eggs', 'beer']\n",
            "['bread', 'diapers', 'beer']\n",
            "\n",
            "Itemset: ('bread',) - Support: 4\n",
            "Corresponding Patterns:\n",
            "['milk', 'bread', 'eggs']\n",
            "['bread', 'eggs', 'diapers']\n",
            "['milk', 'bread', 'eggs', 'beer']\n",
            "['bread', 'diapers', 'beer']\n",
            "\n"
          ]
        }
      ],
      "source": [
        "import pyfpgrowth\n",
        "\n",
        "# Example transactional dataset\n",
        "transactions = [\n",
        "    ['milk', 'bread', 'eggs'],\n",
        "    ['milk', 'diapers', 'beer'],\n",
        "    ['bread', 'eggs', 'diapers'],\n",
        "    ['milk', 'bread', 'eggs', 'beer'],\n",
        "    ['bread', 'diapers', 'beer']\n",
        "]\n",
        "\n",
        "# Set minimum support threshold\n",
        "min_support = 3\n",
        "\n",
        "# Find frequent itemsets using FP-Growth\n",
        "patterns = pyfpgrowth.find_frequent_patterns(transactions, min_support)\n",
        "\n",
        "# Print frequent itemsets and corresponding patterns\n",
        "print(\"Frequent Itemsets and Corresponding Patterns:\")\n",
        "for itemset, support in patterns.items():\n",
        "    print(f\"Itemset: {itemset} - Support: {support}\")\n",
        "    print(\"Corresponding Patterns:\")\n",
        "    for transaction in transactions:\n",
        "        if set(itemset).issubset(set(transaction)):\n",
        "            print(transaction)\n",
        "    print()\n",
        "\n"
      ]
    },
    {
      "cell_type": "code",
      "execution_count": null,
      "id": "39be5812",
      "metadata": {
        "id": "39be5812"
      },
      "outputs": [],
      "source": []
    },
    {
      "cell_type": "code",
      "execution_count": null,
      "id": "946554bc",
      "metadata": {
        "id": "946554bc"
      },
      "outputs": [],
      "source": []
    }
  ],
  "metadata": {
    "kernelspec": {
      "display_name": "Python 3 (ipykernel)",
      "language": "python",
      "name": "python3"
    },
    "language_info": {
      "codemirror_mode": {
        "name": "ipython",
        "version": 3
      },
      "file_extension": ".py",
      "mimetype": "text/x-python",
      "name": "python",
      "nbconvert_exporter": "python",
      "pygments_lexer": "ipython3",
      "version": "3.11.5"
    },
    "colab": {
      "provenance": [],
      "include_colab_link": true
    }
  },
  "nbformat": 4,
  "nbformat_minor": 5
}