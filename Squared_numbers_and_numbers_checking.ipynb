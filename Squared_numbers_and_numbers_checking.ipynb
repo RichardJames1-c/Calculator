{
  "nbformat": 4,
  "nbformat_minor": 0,
  "metadata": {
    "colab": {
      "provenance": [],
      "authorship_tag": "ABX9TyN1etIVfnZQGsf47/grl/YS",
      "include_colab_link": true
    },
    "kernelspec": {
      "name": "python3",
      "display_name": "Python 3"
    },
    "language_info": {
      "name": "python"
    }
  },
  "cells": [
    {
      "cell_type": "markdown",
      "metadata": {
        "id": "view-in-github",
        "colab_type": "text"
      },
      "source": [
        "<a href=\"https://colab.research.google.com/github/RichardJames1-c/Python-programes/blob/main/Squared_numbers_and_numbers_checking.ipynb\" target=\"_parent\"><img src=\"https://colab.research.google.com/assets/colab-badge.svg\" alt=\"Open In Colab\"/></a>"
      ]
    },
    {
      "cell_type": "code",
      "execution_count": null,
      "metadata": {
        "colab": {
          "base_uri": "https://localhost:8080/"
        },
        "id": "KCrsgQwV7jUh",
        "outputId": "e6892895-0ba0-4b8f-e3bf-f2a1bf436e21"
      },
      "outputs": [
        {
          "output_type": "stream",
          "name": "stdout",
          "text": [
            "[1, 4, 9]\n"
          ]
        }
      ],
      "source": [
        "my_list=[1,2,3]\n",
        "squared_numbers=map(lambda x:x**2,my_list)\n",
        "print(list(squared_numbers))"
      ]
    },
    {
      "cell_type": "code",
      "source": [
        "my_list=[1,2,3,6,7]\n",
        "squared_numbers=map(lambda x:x%2==0,my_list)\n",
        "print(list(squared_numbers))\n"
      ],
      "metadata": {
        "colab": {
          "base_uri": "https://localhost:8080/"
        },
        "id": "J4_L_xsO87Fl",
        "outputId": "0f63cb2f-c953-45d6-d1cf-3a2fb51ad8b6"
      },
      "execution_count": null,
      "outputs": [
        {
          "output_type": "stream",
          "name": "stdout",
          "text": [
            "[False, True, False, True, False]\n"
          ]
        }
      ]
    },
    {
      "cell_type": "code",
      "source": [],
      "metadata": {
        "id": "LFtoM1AZ_bDK"
      },
      "execution_count": null,
      "outputs": []
    }
  ]
}