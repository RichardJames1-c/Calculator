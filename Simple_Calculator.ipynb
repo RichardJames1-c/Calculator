{
  "cells": [
    {
      "cell_type": "markdown",
      "metadata": {
        "id": "view-in-github",
        "colab_type": "text"
      },
      "source": [
        "<a href=\"https://colab.research.google.com/github/RichardJames1-c/Calculator/blob/main/Simple_Calculator.ipynb\" target=\"_parent\"><img src=\"https://colab.research.google.com/assets/colab-badge.svg\" alt=\"Open In Colab\"/></a>"
      ]
    },
    {
      "cell_type": "code",
      "execution_count": null,
      "metadata": {
        "colab": {
          "base_uri": "https://localhost:8080/"
        },
        "id": "faNQVvOKPium",
        "outputId": "a384615a-3868-4a40-8796-3c718dfdd611"
      },
      "outputs": [
        {
          "output_type": "stream",
          "name": "stdout",
          "text": [
            "\t\t\t\t\t___Simple__Calculator___\t\t\t\t\t\n",
            "\n",
            "\n",
            "\n",
            "\n",
            "Enter your first number : 3\n",
            "Enter your second number : 2\n",
            "\n",
            "\n",
            "\n",
            "\n",
            "1.Addition\n",
            "2.Subtraction\n",
            "3.Multiplication\n",
            "4.Division\n",
            "5.Remainder\n",
            "6.Division without remainder\n",
            "\n",
            "\n",
            "\n",
            "\n",
            "Enter your selection : 5\n",
            "\n",
            "\n",
            "\n",
            "\n",
            "\t\t\t\t\t\tRemainder =  1 \n",
            "\n",
            "\n",
            "\n",
            "\n",
            "\n",
            "\n",
            "\n",
            "\n",
            "\n"
          ]
        }
      ],
      "source": [
        "\n",
        "print(\"\\t\\t\\t\\t\\t___Simple__Calculator___\\t\\t\\t\\t\\t\\n\\n\\n\\n\")\n",
        "Number_1=int(input(\"Enter your first number : \"))\n",
        "Number_2=int(input(\"Enter your second number : \"))\n",
        "print(\"\\n\\n\\n\\n1.Addition\\n2.Subtraction\\n3.Multiplication\\n4.Division\\n5.Remainder\\n6.Division without remainder\\n\\n\\n\\n\")\n",
        "Check=int(input(\"Enter your selection : \"))\n",
        "if(Check==1):\n",
        "    Addition = Number_1 + Number_2\n",
        "    print(\"\\n\\n\\n\\n\\t\\t\\t\\t\\t\\tSum = \", Addition , \"\\n\\n\\n\\n\\n\\n\\n\\n\\n\")\n",
        "elif(Check==2):\n",
        "    Subtraction= Number_1 - Number_2\n",
        "    print(\"\\n\\n\\n\\n\\t\\t\\t\\t\\t\\tSubtraction = \", Subtraction , \"\\n\\n\\n\\n\\n\\n\\n\\n\\n\")\n",
        "elif(Check==3):\n",
        "    Multiplication = Number_1 * Number_2\n",
        "    print(\"\\n\\n\\n\\n\\t\\t\\t\\t\\tMultiplication = \", Multiplication , \"\\n\\n\\n\\n\\n\\n\\n\\n\\n\" )\n",
        "elif(Check==4):\n",
        "    if(Number_2 == 0):\n",
        "        print(\"\\n\\n\\n\\n\\t\\t\\t\\t\\t Division by zero is not possible.\\n\\n\\n\\n\\n\\n\\n\\n\\n\")\n",
        "    Division = Number_1 / Number_2\n",
        "    print(\"\\n\\n\\n\\n\\t\\t\\t\\t\\tDivision = \", Division , \"\\n\\n\\n\\n\\n\\n\\n\\n\\n\" )\n",
        "elif(Check==5):\n",
        "    Remainder = Number_1 % Number_2\n",
        "    print(\"\\n\\n\\n\\n\\t\\t\\t\\t\\t\\tRemainder = \", Remainder , \"\\n\\n\\n\\n\\n\\n\\n\\n\\n\" )\n",
        "elif(Check==6):\n",
        "    if(Number_2 == 0):\n",
        "        print(\"\\n\\n\\n\\n\\t\\t\\t\\t\\t Division by zero is not possible.\\n\\n\\n\\n\\n\\n\\n\\n\\n\")\n",
        "    Division_without_remainder = Number_1 // Number_2\n",
        "    print(\"\\n\\n\\n\\n\\t\\t\\t\\t\\tDivision without remainder = \", Division_without_remainder , \"\\n\\n\\n\\n\\n\\n\\n\\n\\n\" )\n",
        "else:\n",
        "    print(\"\\n\\n\\n\\n\\t\\t\\t\\t\\t2You entered the wrong selection.\\n\\n\\n\\n\\n\\n\\n\\n\\n\")\n",
        "\n",
        "\n",
        "\n"
      ]
    }
  ],
  "metadata": {
    "colab": {
      "provenance": [],
      "authorship_tag": "ABX9TyOG1GlYIckpJ0huj/3cfqHG",
      "include_colab_link": true
    },
    "kernelspec": {
      "display_name": "Python 3",
      "name": "python3"
    },
    "language_info": {
      "name": "python"
    }
  },
  "nbformat": 4,
  "nbformat_minor": 0
}